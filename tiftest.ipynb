{
 "cells": [
  {
   "cell_type": "code",
   "execution_count": 1,
   "metadata": {},
   "outputs": [],
   "source": [
    "import tifffile\n",
    "import matplotlib.pyplot as plt\n",
    "import numpy as np\n",
    "from csbdeep.data import RawData, create_patches, permute_axes, Transform\n",
    "import json"
   ]
  },
  {
   "cell_type": "code",
   "execution_count": 2,
   "metadata": {},
   "outputs": [
    {
     "output_type": "stream",
     "name": "stdout",
     "text": [
      "['t00', 't01', 't02', 't03', 't04', 't05', 't06', 't07', 't08', 't09', 't10', 't11']\n"
     ]
    }
   ],
   "source": [
    "f = open(\"sample_data_config.json\",'rb')\n",
    "config = json.load(f)\n",
    "source_dirs = os.listdir(os.path.join(config[\"basepath\"],config[\"source_dir\"]))\n",
    "print(source_dirs)\n",
    "source_dirs = [os.path.join(config[\"source_dir\"],s) for s in source_dirs]\n",
    "\n",
    "raw_data = RawData.from_folder (\n",
    "        basepath    = config[\"basepath\"],\n",
    "        source_dirs = source_dirs,\n",
    "        target_dir  = config[\"target_dir\"],\n",
    "        axes        = config[\"axes\"],\n",
    "    )"
   ]
  },
  {
   "cell_type": "code",
   "execution_count": 3,
   "metadata": {},
   "outputs": [
    {
     "output_type": "stream",
     "name": "stderr",
     "text": [
      "Warning: will use at least 4608 MB of memory.\n",
      "\n",
      "==================================================================\n",
      "  144 raw images x    1 transformations   =   144 images\n",
      "  144 images     x  512 patches per image = 73728 patches in total\n",
      "==================================================================\n",
      "Input data:\n",
      "/media/panagiotis/TOSHIBA EXT/Research/Denoising/Data/GFPNegativeCells_20191114/raw_tifs/: target='860_avg', sources=['755/t00', '755/t01', '755/t02', '755/t03', '755/t04', '755/t05', '755/t06', '755/t07', '755/t08', '755/t09', '755/t10', '755/t11'], axes='CYX', pattern='*.tif*'\n",
      "==================================================================\n",
      "Transformations:\n",
      "1 x Identity\n",
      "==================================================================\n",
      "Patch size:\n",
      "2 x 64 x 64\n",
      "==================================================================\n",
      "  0%|          | 0/144 [00:00<?, ?it/s]\n"
     ]
    },
    {
     "output_type": "error",
     "ename": "ValueError",
     "evalue": "'patch_filter' didn't return any region to sample from",
     "traceback": [
      "\u001b[0;31m---------------------------------------------------------------------------\u001b[0m",
      "\u001b[0;31mValueError\u001b[0m                                Traceback (most recent call last)",
      "\u001b[0;32m<ipython-input-3-3673b496d1d6>\u001b[0m in \u001b[0;36m<module>\u001b[0;34m\u001b[0m\n\u001b[0;32m----> 1\u001b[0;31m X, Y, XY_axes = create_patches (\n\u001b[0m\u001b[1;32m      2\u001b[0m             \u001b[0mraw_data\u001b[0m            \u001b[0;34m=\u001b[0m \u001b[0mraw_data\u001b[0m\u001b[0;34m,\u001b[0m\u001b[0;34m\u001b[0m\u001b[0;34m\u001b[0m\u001b[0m\n\u001b[1;32m      3\u001b[0m             \u001b[0mpatch_size\u001b[0m          \u001b[0;34m=\u001b[0m \u001b[0;34m(\u001b[0m\u001b[0;36m2\u001b[0m\u001b[0;34m,\u001b[0m\u001b[0;36m64\u001b[0m\u001b[0;34m,\u001b[0m\u001b[0;36m64\u001b[0m\u001b[0;34m)\u001b[0m\u001b[0;34m,\u001b[0m\u001b[0;34m\u001b[0m\u001b[0;34m\u001b[0m\u001b[0m\n\u001b[1;32m      4\u001b[0m             \u001b[0mn_patches_per_image\u001b[0m \u001b[0;34m=\u001b[0m \u001b[0mconfig\u001b[0m\u001b[0;34m[\u001b[0m\u001b[0;34m\"n_patches_per_image\"\u001b[0m\u001b[0;34m]\u001b[0m\u001b[0;34m,\u001b[0m\u001b[0;34m\u001b[0m\u001b[0;34m\u001b[0m\u001b[0m\n\u001b[1;32m      5\u001b[0m             \u001b[0;31m#transforms          = transforms,\u001b[0m\u001b[0;34m\u001b[0m\u001b[0;34m\u001b[0m\u001b[0;34m\u001b[0m\u001b[0m\n",
      "\u001b[0;32m~/.conda/envs/denoising/lib/python3.8/site-packages/csbdeep/data/generate.py\u001b[0m in \u001b[0;36mcreate_patches\u001b[0;34m(raw_data, patch_size, n_patches_per_image, patch_axes, save_file, transforms, patch_filter, normalization, shuffle, verbose)\u001b[0m\n\u001b[1;32m    344\u001b[0m         \u001b[0mchannel\u001b[0m \u001b[0;32mis\u001b[0m \u001b[0;32mNone\u001b[0m \u001b[0;32mor\u001b[0m \u001b[0mpatch_size\u001b[0m\u001b[0;34m[\u001b[0m\u001b[0mchannel\u001b[0m\u001b[0;34m]\u001b[0m\u001b[0;34m==\u001b[0m\u001b[0mx\u001b[0m\u001b[0;34m.\u001b[0m\u001b[0mshape\u001b[0m\u001b[0;34m[\u001b[0m\u001b[0mchannel\u001b[0m\u001b[0;34m]\u001b[0m \u001b[0;32mor\u001b[0m \u001b[0m_raise\u001b[0m\u001b[0;34m(\u001b[0m\u001b[0mValueError\u001b[0m\u001b[0;34m(\u001b[0m\u001b[0;34m'extracted patches must contain all channels.'\u001b[0m\u001b[0;34m)\u001b[0m\u001b[0;34m)\u001b[0m\u001b[0;34m\u001b[0m\u001b[0;34m\u001b[0m\u001b[0m\n\u001b[1;32m    345\u001b[0m \u001b[0;34m\u001b[0m\u001b[0m\n\u001b[0;32m--> 346\u001b[0;31m         \u001b[0m_Y\u001b[0m\u001b[0;34m,\u001b[0m\u001b[0m_X\u001b[0m \u001b[0;34m=\u001b[0m \u001b[0msample_patches_from_multiple_stacks\u001b[0m\u001b[0;34m(\u001b[0m\u001b[0;34m(\u001b[0m\u001b[0my\u001b[0m\u001b[0;34m,\u001b[0m\u001b[0mx\u001b[0m\u001b[0;34m)\u001b[0m\u001b[0;34m,\u001b[0m \u001b[0mpatch_size\u001b[0m\u001b[0;34m,\u001b[0m \u001b[0mn_patches_per_image\u001b[0m\u001b[0;34m,\u001b[0m \u001b[0mmask\u001b[0m\u001b[0;34m,\u001b[0m \u001b[0mpatch_filter\u001b[0m\u001b[0;34m)\u001b[0m\u001b[0;34m\u001b[0m\u001b[0;34m\u001b[0m\u001b[0m\n\u001b[0m\u001b[1;32m    347\u001b[0m \u001b[0;34m\u001b[0m\u001b[0m\n\u001b[1;32m    348\u001b[0m         \u001b[0ms\u001b[0m \u001b[0;34m=\u001b[0m \u001b[0mslice\u001b[0m\u001b[0;34m(\u001b[0m\u001b[0mi\u001b[0m\u001b[0;34m*\u001b[0m\u001b[0mn_patches_per_image\u001b[0m\u001b[0;34m,\u001b[0m\u001b[0;34m(\u001b[0m\u001b[0mi\u001b[0m\u001b[0;34m+\u001b[0m\u001b[0;36m1\u001b[0m\u001b[0;34m)\u001b[0m\u001b[0;34m*\u001b[0m\u001b[0mn_patches_per_image\u001b[0m\u001b[0;34m)\u001b[0m\u001b[0;34m\u001b[0m\u001b[0;34m\u001b[0m\u001b[0m\n",
      "\u001b[0;32m~/.conda/envs/denoising/lib/python3.8/site-packages/csbdeep/data/generate.py\u001b[0m in \u001b[0;36msample_patches_from_multiple_stacks\u001b[0;34m(datas, patch_size, n_samples, datas_mask, patch_filter, verbose)\u001b[0m\n\u001b[1;32m     98\u001b[0m \u001b[0;34m\u001b[0m\u001b[0m\n\u001b[1;32m     99\u001b[0m     \u001b[0;32mif\u001b[0m \u001b[0mn_valid\u001b[0m \u001b[0;34m==\u001b[0m \u001b[0;36m0\u001b[0m\u001b[0;34m:\u001b[0m\u001b[0;34m\u001b[0m\u001b[0;34m\u001b[0m\u001b[0m\n\u001b[0;32m--> 100\u001b[0;31m         \u001b[0;32mraise\u001b[0m \u001b[0mValueError\u001b[0m\u001b[0;34m(\u001b[0m\u001b[0;34m\"'patch_filter' didn't return any region to sample from\"\u001b[0m\u001b[0;34m)\u001b[0m\u001b[0;34m\u001b[0m\u001b[0;34m\u001b[0m\u001b[0m\n\u001b[0m\u001b[1;32m    101\u001b[0m \u001b[0;34m\u001b[0m\u001b[0m\n\u001b[1;32m    102\u001b[0m     \u001b[0msample_inds\u001b[0m \u001b[0;34m=\u001b[0m \u001b[0mchoice\u001b[0m\u001b[0;34m(\u001b[0m\u001b[0mrange\u001b[0m\u001b[0;34m(\u001b[0m\u001b[0mn_valid\u001b[0m\u001b[0;34m)\u001b[0m\u001b[0;34m,\u001b[0m \u001b[0mn_samples\u001b[0m\u001b[0;34m,\u001b[0m \u001b[0mreplace\u001b[0m\u001b[0;34m=\u001b[0m\u001b[0;34m(\u001b[0m\u001b[0mn_valid\u001b[0m \u001b[0;34m<\u001b[0m \u001b[0mn_samples\u001b[0m\u001b[0;34m)\u001b[0m\u001b[0;34m)\u001b[0m\u001b[0;34m\u001b[0m\u001b[0;34m\u001b[0m\u001b[0m\n",
      "\u001b[0;31mValueError\u001b[0m: 'patch_filter' didn't return any region to sample from"
     ]
    }
   ],
   "source": [
    "def median_filter(threshold=0.4, percentile=99.9):\n",
    "\n",
    "\n",
    "    from scipy.ndimage.filters import maximum_filter, median_filter\n",
    "    def _filter(datas, patch_size, dtype=np.float32):\n",
    "        image = datas[0]\n",
    "        if dtype is not None:\n",
    "            image = image.astype(dtype)\n",
    "        # make max filter patch_size smaller to avoid only few non-bg pixel close to image border\n",
    "        patch_size = [(p//2 if p>1 else p) for p in patch_size]\n",
    "        filtered = median_filter(image, patch_size, mode='constant')\n",
    "        #print(filtered)\n",
    "        return filtered > threshold * np.percentile(image,percentile)\n",
    "    return _filter\n",
    "\n",
    "X, Y, XY_axes = create_patches (\n",
    "            raw_data            = raw_data,\n",
    "            patch_size          = (2,64,64),\n",
    "            n_patches_per_image = config[\"n_patches_per_image\"],\n",
    "            #transforms          = transforms,\n",
    "            save_file           = config[\"save_file\"],\n",
    "            patch_filter= median_filter\n",
    "        )"
   ]
  },
  {
   "cell_type": "code",
   "execution_count": null,
   "metadata": {},
   "outputs": [],
   "source": []
  }
 ],
 "metadata": {
  "language_info": {
   "codemirror_mode": {
    "name": "ipython",
    "version": 3
   },
   "file_extension": ".py",
   "mimetype": "text/x-python",
   "name": "python",
   "nbconvert_exporter": "python",
   "pygments_lexer": "ipython3",
   "version": "3.8.5-final"
  },
  "orig_nbformat": 2,
  "kernelspec": {
   "name": "Python 3.8.5 64-bit",
   "display_name": "Python 3.8.5 64-bit",
   "metadata": {
    "interpreter": {
     "hash": "c2e9308944a1210b63535111ce284b1ae19f2e62c1074aecbe1860543a262189"
    }
   }
  }
 },
 "nbformat": 4,
 "nbformat_minor": 2
}