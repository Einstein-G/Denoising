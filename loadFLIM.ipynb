{
 "cells": [
  {
   "cell_type": "code",
   "execution_count": null,
   "metadata": {},
   "outputs": [],
   "source": [
    "import numpy as np\n",
    "\n",
    "def loadFLIMbin(binpath=None, buffer=None, num_bins=3):\n",
    "    ''' Reads decay matrix from a FLIM .bin file.\n",
    "        Notes: as of right now does not fully support all decay matrix dimensions.\n",
    "        Takes a path to a .bin file\n",
    "        Only works if the 3rd dimension mod binning is equal to 2\n",
    "        Return a FLIMtuple (decaymatrix, time_res_bin, img_res, time_interval) '''\n",
    "    dtype = np.int32\n",
    "    if binpath is not None:\n",
    "        data = np.fromfile(binpath, dtype)\n",
    "    elif buffer is not None:\n",
    "        data = np.frombuffer(buffer, dtype)\n",
    "    else:\n",
    "        raise Exception('Has to specify either a binpath or a buffer')\n",
    "    time_res = data[3]\n",
    "    img_res = data[0]\n",
    "    decaymatrix_raw = data[5:].reshape((time_res, img_res, img_res), order='F')\n",
    "    decaymatrix_raw = decaymatrix_raw.transpose((2,1,0))\n",
    "\n",
    "    # binning\n",
    "    if num_bins > 1:\n",
    "        shape = decaymatrix_raw.shape\n",
    "        shape = (*shape[:-1], num_bins, int((shape[-1]-2)/num_bins))\n",
    "        n_time_points = shape[-2]*shape[-1]\n",
    "        decaymatrix = decaymatrix_raw[:,:,time_res-n_time_points:time_res]\n",
    "        decaymatrix = decaymatrix.reshape(shape, order='F')\n",
    "        decaymatrix = np.mean(decaymatrix, axis=2)\n",
    "    else:\n",
    "        decaymatrix = decaymatrix_raw\n",
    "\n",
    "    time_period_ns = 12.508416*num_bins/time_res;\n",
    "    time_res_bin = time_res/num_bins;\n",
    "\n",
    "    return (decaymatrix, time_res_bin, img_res, time_period_ns)"
   ]
  }
 ],
 "metadata": {
  "kernelspec": {
   "display_name": "Python 3",
   "language": "python",
   "name": "python3"
  },
  "language_info": {
   "codemirror_mode": {
    "name": "ipython",
    "version": 3
   },
   "file_extension": ".py",
   "mimetype": "text/x-python",
   "name": "python",
   "nbconvert_exporter": "python",
   "pygments_lexer": "ipython3",
   "version": "3.7.3"
  }
 },
 "nbformat": 4,
 "nbformat_minor": 4
}
